{
  "nbformat": 4,
  "nbformat_minor": 0,
  "metadata": {
    "colab": {
      "provenance": []
    },
    "kernelspec": {
      "name": "python3",
      "display_name": "Python 3"
    },
    "language_info": {
      "name": "python"
    }
  },
  "cells": [
    {
      "cell_type": "markdown",
      "source": [
        "###Problem 1: Probability below a value\n",
        "###Q: The average height of adult males is 175 cm with a standard deviation of 10 cm. What is the probability that a randomly selected male is shorter than 160 cm?"
      ],
      "metadata": {
        "id": "M1oG__NNULv7"
      }
    },
    {
      "cell_type": "code",
      "source": [
        "x=175\n",
        "sd=10\n",
        "m=160"
      ],
      "metadata": {
        "id": "AXkhjiUYUTU5"
      },
      "execution_count": 1,
      "outputs": []
    },
    {
      "cell_type": "code",
      "source": [
        "z=(m-x)/sd\n",
        "print(z)"
      ],
      "metadata": {
        "colab": {
          "base_uri": "https://localhost:8080/"
        },
        "id": "OdjXh-jHUc_S",
        "outputId": "593c6110-e2bc-4458-b475-bc203e33572a"
      },
      "execution_count": 2,
      "outputs": [
        {
          "output_type": "stream",
          "name": "stdout",
          "text": [
            "-1.5\n"
          ]
        }
      ]
    },
    {
      "cell_type": "markdown",
      "source": [
        "###Problem 2: Probability above a value\n",
        "###Q: What is the probability that a male is taller than 185 cm?"
      ],
      "metadata": {
        "id": "siTg_2U3UnIA"
      }
    },
    {
      "cell_type": "code",
      "source": [
        "x=175\n",
        "sd=10\n",
        "m=185"
      ],
      "metadata": {
        "id": "sLYiaB6QUwU3"
      },
      "execution_count": 3,
      "outputs": []
    },
    {
      "cell_type": "code",
      "source": [
        "z=(m-x)/sd\n",
        "print(z)"
      ],
      "metadata": {
        "colab": {
          "base_uri": "https://localhost:8080/"
        },
        "id": "BGfPEeo2U1cZ",
        "outputId": "91c4fd50-b08e-4d7d-a456-1b5a5f41410d"
      },
      "execution_count": 4,
      "outputs": [
        {
          "output_type": "stream",
          "name": "stdout",
          "text": [
            "1.0\n"
          ]
        }
      ]
    },
    {
      "cell_type": "markdown",
      "source": [
        "###Problem 3: Probability between two values\n",
        "###Q: What's the probability that a male is between 165 cm and 185 cm?"
      ],
      "metadata": {
        "id": "ZLAeEql-U7gt"
      }
    },
    {
      "cell_type": "code",
      "source": [
        "x=175\n",
        "sd=10\n",
        "m1=165\n",
        "m2=185"
      ],
      "metadata": {
        "id": "VEcerZbwVFM7"
      },
      "execution_count": 5,
      "outputs": []
    },
    {
      "cell_type": "code",
      "source": [
        "z1=(m1-x)/sd\n",
        "z2=(m2-x)/sd\n",
        "print(z1)\n",
        "print(z2)"
      ],
      "metadata": {
        "colab": {
          "base_uri": "https://localhost:8080/"
        },
        "id": "46PnZnAWVJ_S",
        "outputId": "dafa06fb-3f51-4243-c862-5194b5efb5b5"
      },
      "execution_count": 6,
      "outputs": [
        {
          "output_type": "stream",
          "name": "stdout",
          "text": [
            "-1.0\n",
            "1.0\n"
          ]
        }
      ]
    },
    {
      "cell_type": "markdown",
      "source": [
        "###Problem 4: Find the value at a percentile\n",
        "###Q: What is the height corresponding to the 90th percentile?\n"
      ],
      "metadata": {
        "id": "IzP93j2HVOza"
      }
    },
    {
      "cell_type": "code",
      "source": [
        "x=175\n",
        "sd=10\n",
        "p=1.2816"
      ],
      "metadata": {
        "id": "3QJlv3SwVZdN"
      },
      "execution_count": 7,
      "outputs": []
    },
    {
      "cell_type": "code",
      "source": [
        "m=x+sd*p\n",
        "print(m)"
      ],
      "metadata": {
        "colab": {
          "base_uri": "https://localhost:8080/"
        },
        "id": "baWDIglVV8CN",
        "outputId": "a1224f6b-77b0-41f7-8012-c362e3ce8617"
      },
      "execution_count": 8,
      "outputs": [
        {
          "output_type": "stream",
          "name": "stdout",
          "text": [
            "187.816\n"
          ]
        }
      ]
    },
    {
      "cell_type": "markdown",
      "source": [
        "#Q: A sample of 50 males is taken. What is the probability that the sample mean height is greater than 177 cm?"
      ],
      "metadata": {
        "id": "5wuQRpN2XWSE"
      }
    },
    {
      "cell_type": "code",
      "source": [
        "m=175\n",
        "x=177\n",
        "sd=10\n",
        "n=50"
      ],
      "metadata": {
        "id": "4kgnm23jXX67"
      },
      "execution_count": 21,
      "outputs": []
    },
    {
      "cell_type": "code",
      "source": [
        "se=sd/n**0.5\n",
        "print(se)"
      ],
      "metadata": {
        "colab": {
          "base_uri": "https://localhost:8080/"
        },
        "id": "eSEiB1FzXdOr",
        "outputId": "3acf2034-f22d-4e1c-d336-6377e05ee540"
      },
      "execution_count": 22,
      "outputs": [
        {
          "output_type": "stream",
          "name": "stdout",
          "text": [
            "1.414213562373095\n"
          ]
        }
      ]
    },
    {
      "cell_type": "markdown",
      "source": [
        "###Problem 6: Z-score of an exam score\n",
        "###Q: A student scores 85 in an exam where the average is 70 and standard deviation is 10. What is the Z-score?"
      ],
      "metadata": {
        "id": "Sm3n7IA7bp7I"
      }
    },
    {
      "cell_type": "code",
      "source": [
        "x=70\n",
        "sd=10\n",
        "s=85"
      ],
      "metadata": {
        "id": "40GHE0isbvtF"
      },
      "execution_count": 23,
      "outputs": []
    },
    {
      "cell_type": "code",
      "source": [
        "z=(s-x)/sd\n",
        "print(z)\n"
      ],
      "metadata": {
        "colab": {
          "base_uri": "https://localhost:8080/"
        },
        "id": "jinlxlqfeHf1",
        "outputId": "d9c738f5-7441-4ca8-cf10-79c178938e47"
      },
      "execution_count": 24,
      "outputs": [
        {
          "output_type": "stream",
          "name": "stdout",
          "text": [
            "1.5\n"
          ]
        }
      ]
    },
    {
      "cell_type": "markdown",
      "source": [
        "###Problem 7: Determine the cutoff for top 5%\n",
        "###Q: What test score is needed to be in the top 5% of students?"
      ],
      "metadata": {
        "id": "EbVUEmYBe522"
      }
    },
    {
      "cell_type": "code",
      "source": [
        "x=70\n",
        "sd=10\n",
        "p=1.645"
      ],
      "metadata": {
        "id": "RbLMSEezfMEB"
      },
      "execution_count": 27,
      "outputs": []
    },
    {
      "cell_type": "code",
      "source": [
        "m=x+sd*p\n",
        "print(m)\n"
      ],
      "metadata": {
        "colab": {
          "base_uri": "https://localhost:8080/"
        },
        "id": "qa7spg1ggnb8",
        "outputId": "f34a650d-9091-4b62-f174-617ce053b1d7"
      },
      "execution_count": 28,
      "outputs": [
        {
          "output_type": "stream",
          "name": "stdout",
          "text": [
            "86.45\n"
          ]
        }
      ]
    },
    {
      "cell_type": "code",
      "source": [],
      "metadata": {
        "id": "6W4ga3Srgxm4"
      },
      "execution_count": null,
      "outputs": []
    },
    {
      "cell_type": "markdown",
      "source": [
        "###Problem 10: Value corresponding to a Z-score\n",
        "###Q: In a standardized test (mean=1000, std=200), what score corresponds to a Z-score of -1.25?"
      ],
      "metadata": {
        "id": "Io0rrrfqjJqD"
      }
    },
    {
      "cell_type": "code",
      "source": [
        "x=1000\n",
        "std=200\n",
        "z=-1.25"
      ],
      "metadata": {
        "id": "JxQa28E_jNjj"
      },
      "execution_count": 46,
      "outputs": []
    },
    {
      "cell_type": "code",
      "source": [
        "m=x+std*z\n",
        "print(m)"
      ],
      "metadata": {
        "colab": {
          "base_uri": "https://localhost:8080/"
        },
        "id": "VHWxhbt0jaL6",
        "outputId": "1f647404-31a4-4c49-ba54-60bad02e6d12"
      },
      "execution_count": 47,
      "outputs": [
        {
          "output_type": "stream",
          "name": "stdout",
          "text": [
            "750.0\n"
          ]
        }
      ]
    },
    {
      "cell_type": "code",
      "source": [],
      "metadata": {
        "id": "-f5gphQajyfv"
      },
      "execution_count": null,
      "outputs": []
    }
  ]
}